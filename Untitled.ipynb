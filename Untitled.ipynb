{
 "cells": [
  {
   "cell_type": "code",
   "execution_count": 2,
   "metadata": {},
   "outputs": [
    {
     "name": "stdout",
     "output_type": "stream",
     "text": [
      "Using Keras version = 2.2.4\n"
     ]
    },
    {
     "ename": "ValueError",
     "evalue": "attempted relative import beyond top-level package",
     "output_type": "error",
     "traceback": [
      "\u001b[1;31m---------------------------------------------------------------------------\u001b[0m",
      "\u001b[1;31mValueError\u001b[0m                                Traceback (most recent call last)",
      "\u001b[1;32m<ipython-input-2-8c7cea9af457>\u001b[0m in \u001b[0;36m<module>\u001b[1;34m\u001b[0m\n\u001b[1;32m----> 1\u001b[1;33m \u001b[1;32mfrom\u001b[0m \u001b[0mgans\u001b[0m\u001b[1;33m.\u001b[0m\u001b[0mdcgan\u001b[0m \u001b[1;32mimport\u001b[0m \u001b[0mDCGAN\u001b[0m \u001b[1;32mas\u001b[0m \u001b[0mGAN\u001b[0m\u001b[1;33m\u001b[0m\u001b[1;33m\u001b[0m\u001b[0m\n\u001b[0m",
      "\u001b[1;32mD:\\Projects\\K-GAN\\gans\\dcgan.py\u001b[0m in \u001b[0;36m<module>\u001b[1;34m\u001b[0m\n\u001b[0;32m     19\u001b[0m \u001b[1;32mfrom\u001b[0m \u001b[0mkeras\u001b[0m \u001b[1;32mimport\u001b[0m \u001b[0mbackend\u001b[0m \u001b[1;32mas\u001b[0m \u001b[0mK\u001b[0m\u001b[1;33m\u001b[0m\u001b[1;33m\u001b[0m\u001b[0m\n\u001b[0;32m     20\u001b[0m \u001b[1;32mimport\u001b[0m \u001b[0mtensorflow\u001b[0m \u001b[1;32mas\u001b[0m \u001b[0mtf\u001b[0m\u001b[1;33m\u001b[0m\u001b[1;33m\u001b[0m\u001b[0m\n\u001b[1;32m---> 21\u001b[1;33m \u001b[1;32mfrom\u001b[0m \u001b[1;33m.\u001b[0m\u001b[1;33m.\u001b[0m\u001b[0mutils\u001b[0m \u001b[1;32mimport\u001b[0m \u001b[1;33m*\u001b[0m\u001b[1;33m\u001b[0m\u001b[1;33m\u001b[0m\u001b[0m\n\u001b[0m\u001b[0;32m     22\u001b[0m \u001b[1;33m\u001b[0m\u001b[0m\n\u001b[0;32m     23\u001b[0m \u001b[1;32mclass\u001b[0m \u001b[0mDCGAN\u001b[0m\u001b[1;33m(\u001b[0m\u001b[0mobject\u001b[0m\u001b[1;33m)\u001b[0m\u001b[1;33m:\u001b[0m\u001b[1;33m\u001b[0m\u001b[1;33m\u001b[0m\u001b[0m\n",
      "\u001b[1;31mValueError\u001b[0m: attempted relative import beyond top-level package"
     ]
    }
   ],
   "source": [
    "from gans.dcgan import DCGAN as GAN"
   ]
  },
  {
   "cell_type": "code",
   "execution_count": 2,
   "metadata": {},
   "outputs": [
    {
     "name": "stdout",
     "output_type": "stream",
     "text": [
      "_________________________________________________________________\n",
      "Layer (type)                 Output Shape              Param #   \n",
      "=================================================================\n",
      "Conv2D_1 (Conv2D)            (None, 14, 14, 128)       2176      \n",
      "_________________________________________________________________\n",
      "LRelu_D1 (LeakyReLU)         (None, 14, 14, 128)       0         \n",
      "_________________________________________________________________\n",
      "Conv2D_D2 (Conv2D)           (None, 7, 7, 256)         524544    \n",
      "_________________________________________________________________\n",
      "BNorm_D1 (BatchNormalization (None, 7, 7, 256)         1024      \n",
      "_________________________________________________________________\n",
      "LRelu_D2 (LeakyReLU)         (None, 7, 7, 256)         0         \n",
      "_________________________________________________________________\n",
      "Conv2D_D3 (Conv2D)           (None, 4, 4, 512)         2097664   \n",
      "_________________________________________________________________\n",
      "BNorm_D2 (BatchNormalization (None, 4, 4, 512)         2048      \n",
      "_________________________________________________________________\n",
      "LRelu_D3 (LeakyReLU)         (None, 4, 4, 512)         0         \n",
      "_________________________________________________________________\n",
      "Conv2D_D4 (Conv2D)           (None, 4, 4, 1024)        8389632   \n",
      "_________________________________________________________________\n",
      "BNorm_D3 (BatchNormalization (None, 4, 4, 1024)        4096      \n",
      "_________________________________________________________________\n",
      "LRelu_D4 (LeakyReLU)         (None, 4, 4, 1024)        0         \n",
      "_________________________________________________________________\n",
      "Flatten (Flatten)            (None, 16384)             0         \n",
      "_________________________________________________________________\n",
      "Dense_D1 (Dense)             (None, 1024)              16778240  \n",
      "_________________________________________________________________\n",
      "LRelu_D5 (LeakyReLU)         (None, 1024)              0         \n",
      "_________________________________________________________________\n",
      "BNorm_D4 (BatchNormalization (None, 1024)              4096      \n",
      "_________________________________________________________________\n",
      "Dense_D2 (Dense)             (None, 1)                 1025      \n",
      "_________________________________________________________________\n",
      "Sigmoid (Activation)         (None, 1)                 0         \n",
      "=================================================================\n",
      "Total params: 27,804,545\n",
      "Trainable params: 27,798,913\n",
      "Non-trainable params: 5,632\n",
      "_________________________________________________________________\n",
      "_________________________________________________________________\n",
      "Layer (type)                 Output Shape              Param #   \n",
      "=================================================================\n",
      "Dense_G (Dense)              (None, 16384)             1064960   \n",
      "_________________________________________________________________\n",
      "Reshape (Reshape)            (None, 4, 4, 1024)        0         \n",
      "_________________________________________________________________\n",
      "BNorm_G1 (BatchNormalization (None, 4, 4, 1024)        4096      \n",
      "_________________________________________________________________\n",
      "LRelu_G1 (LeakyReLU)         (None, 4, 4, 1024)        0         \n",
      "_________________________________________________________________\n",
      "UpSample_1 (UpSampling2D)    (None, 8, 8, 1024)        0         \n",
      "_________________________________________________________________\n",
      "Conv2D_G1 (Conv2D)           (None, 8, 8, 512)         8389120   \n",
      "_________________________________________________________________\n",
      "BN_G2 (BatchNormalization)   (None, 8, 8, 512)         2048      \n",
      "_________________________________________________________________\n",
      "LRelu_G2 (LeakyReLU)         (None, 8, 8, 512)         0         \n",
      "_________________________________________________________________\n",
      "UpSample_2 (UpSampling2D)    (None, 16, 16, 512)       0         \n",
      "_________________________________________________________________\n",
      "Conv2D_G2 (Conv2D)           (None, 16, 16, 256)       2097408   \n",
      "_________________________________________________________________\n",
      "BN_G3 (BatchNormalization)   (None, 16, 16, 256)       1024      \n",
      "_________________________________________________________________\n",
      "LRelu_G3 (LeakyReLU)         (None, 16, 16, 256)       0         \n",
      "_________________________________________________________________\n",
      "UpSample_3 (UpSampling2D)    (None, 32, 32, 256)       0         \n",
      "_________________________________________________________________\n",
      "Conv2D_G3 (Conv2D)           (None, 32, 32, 128)       524416    \n",
      "_________________________________________________________________\n",
      "BN_G4 (BatchNormalization)   (None, 32, 32, 128)       512       \n",
      "_________________________________________________________________\n",
      "LRelu_G4 (LeakyReLU)         (None, 32, 32, 128)       0         \n",
      "_________________________________________________________________\n",
      "UpSample_4 (UpSampling2D)    (None, 32, 32, 128)       0         \n",
      "_________________________________________________________________\n",
      "Conv2D_G4 (Conv2D)           (None, 32, 32, 1)         2049      \n",
      "_________________________________________________________________\n",
      "Tanh (Activation)            (None, 32, 32, 1)         0         \n",
      "_________________________________________________________________\n",
      "Crop2D (Cropping2D)          (None, 28, 28, 1)         0         \n",
      "=================================================================\n",
      "Total params: 12,085,633\n",
      "Trainable params: 12,081,793\n",
      "Non-trainable params: 3,840\n",
      "_________________________________________________________________\n",
      "_________________________________________________________________\n",
      "Layer (type)                 Output Shape              Param #   \n",
      "=================================================================\n",
      "Discriminator (Sequential)   (None, 1)                 27804545  \n",
      "=================================================================\n",
      "Total params: 27,804,545\n",
      "Trainable params: 27,798,913\n",
      "Non-trainable params: 5,632\n",
      "_________________________________________________________________\n",
      "_________________________________________________________________\n",
      "Layer (type)                 Output Shape              Param #   \n",
      "=================================================================\n",
      "Generator (Sequential)       (None, 28, 28, 1)         12085633  \n",
      "_________________________________________________________________\n",
      "Discriminator (Sequential)   (None, 1)                 27804545  \n",
      "=================================================================\n",
      "Total params: 12,091,265\n",
      "Trainable params: 12,081,793\n",
      "Non-trainable params: 9,472\n",
      "_________________________________________________________________\n"
     ]
    },
    {
     "name": "stderr",
     "output_type": "stream",
     "text": [
      "D:\\Anaconda3\\envs\\KGAN\\lib\\site-packages\\keras\\engine\\training.py:490: UserWarning: Discrepancy between trainable weights and collected trainable weights, did you set `model.trainable` without calling `model.compile` after ?\n",
      "  'Discrepancy between trainable weights and collected trainable'\n"
     ]
    },
    {
     "ename": "NameError",
     "evalue": "name 'ProgressLogger' is not defined",
     "output_type": "error",
     "traceback": [
      "\u001b[1;31m---------------------------------------------------------------------------\u001b[0m",
      "\u001b[1;31mNameError\u001b[0m                                 Traceback (most recent call last)",
      "\u001b[1;32m<ipython-input-2-709ae7211a8f>\u001b[0m in \u001b[0;36m<module>\u001b[1;34m\u001b[0m\n\u001b[0;32m     27\u001b[0m \u001b[1;33m\u001b[0m\u001b[0m\n\u001b[0;32m     28\u001b[0m \u001b[0mt\u001b[0m \u001b[1;33m=\u001b[0m \u001b[0mMNISTGAN\u001b[0m\u001b[1;33m(\u001b[0m\u001b[1;33m)\u001b[0m\u001b[1;33m\u001b[0m\u001b[1;33m\u001b[0m\u001b[0m\n\u001b[1;32m---> 29\u001b[1;33m \u001b[0mt\u001b[0m\u001b[1;33m.\u001b[0m\u001b[0mtrain\u001b[0m\u001b[1;33m(\u001b[0m\u001b[1;33m)\u001b[0m\u001b[1;33m\u001b[0m\u001b[1;33m\u001b[0m\u001b[0m\n\u001b[0m",
      "\u001b[1;32m<ipython-input-2-709ae7211a8f>\u001b[0m in \u001b[0;36mtrain\u001b[1;34m(self)\u001b[0m\n\u001b[0;32m     24\u001b[0m     \u001b[1;32mdef\u001b[0m \u001b[0mtrain\u001b[0m\u001b[1;33m(\u001b[0m\u001b[0mself\u001b[0m\u001b[1;33m)\u001b[0m\u001b[1;33m:\u001b[0m\u001b[1;33m\u001b[0m\u001b[1;33m\u001b[0m\u001b[0m\n\u001b[0;32m     25\u001b[0m         self.GAN.train(self.x_train, 'MNIST_sims_',train_steps=5000, save_interval=500,\n\u001b[1;32m---> 26\u001b[1;33m                        verbose = 100, train_rate=(5,1))\n\u001b[0m\u001b[0;32m     27\u001b[0m \u001b[1;33m\u001b[0m\u001b[0m\n\u001b[0;32m     28\u001b[0m \u001b[0mt\u001b[0m \u001b[1;33m=\u001b[0m \u001b[0mMNISTGAN\u001b[0m\u001b[1;33m(\u001b[0m\u001b[1;33m)\u001b[0m\u001b[1;33m\u001b[0m\u001b[1;33m\u001b[0m\u001b[0m\n",
      "\u001b[1;32mD:\\Projects\\K-GAN\\gans\\dcgan.py\u001b[0m in \u001b[0;36mtrain\u001b[1;34m(self, x_train, fileprefix, train_rate, train_steps, batch_size, save_interval, verbose, samples, noisy_label)\u001b[0m\n\u001b[0;32m    218\u001b[0m         \u001b[0msamples\u001b[0m\u001b[1;33m:\u001b[0m \u001b[0mnumber\u001b[0m \u001b[0mof\u001b[0m \u001b[0mimages\u001b[0m \u001b[1;32min\u001b[0m \u001b[0moutput\u001b[0m \u001b[0mplot\u001b[0m\u001b[1;33m\u001b[0m\u001b[1;33m\u001b[0m\u001b[0m\n\u001b[0;32m    219\u001b[0m         '''\n\u001b[1;32m--> 220\u001b[1;33m         \u001b[0mlogger\u001b[0m \u001b[1;33m=\u001b[0m \u001b[0mProgressLogger\u001b[0m\u001b[1;33m(\u001b[0m\u001b[0mself\u001b[0m\u001b[1;33m,\u001b[0m \u001b[0mfileprefix\u001b[0m\u001b[1;33m)\u001b[0m\u001b[1;33m\u001b[0m\u001b[1;33m\u001b[0m\u001b[0m\n\u001b[0m\u001b[0;32m    221\u001b[0m \u001b[1;33m\u001b[0m\u001b[0m\n\u001b[0;32m    222\u001b[0m \u001b[1;33m\u001b[0m\u001b[0m\n",
      "\u001b[1;31mNameError\u001b[0m: name 'ProgressLogger' is not defined"
     ]
    }
   ],
   "source": [
    "import numpy as np\n",
    "from keras.datasets import mnist\n",
    "\n",
    "class MNISTGAN(object):\n",
    "    def __init__(self):\n",
    "            \n",
    "        kernels = [4,4,4,4]\n",
    "        strides = [2,2,2,1]\n",
    "\n",
    "        self.img_rows = 28\n",
    "        self.img_cols = 28\n",
    "        self.channel = 1\n",
    "        (self.x_train, _), (_, _) = mnist.load_data()\n",
    "        self.x_train = self.x_train.reshape(-1, self.img_rows,\\\n",
    "        \tself.img_cols, 1)/255*2-1\n",
    "\n",
    "        self.GAN = GAN(img_rows=self.img_rows, img_cols=self.img_cols,  channel = self.channel,\n",
    "                       kernels=kernels,\n",
    "                       strides=strides,\n",
    "                            load_dir=None, min_depth = 128, save_dir = 'Saved_Models/MNIST_example')\n",
    "        self.GAN.strides = strides\n",
    "        self.GAN.kernels = kernels\n",
    "\n",
    "    def train(self):\n",
    "        self.GAN.train(self.x_train, 'MNIST_sims_',train_steps=5000, save_interval=500,\n",
    "                       verbose = 100, train_rate=(5,1))\n",
    "\n",
    "t = MNISTGAN()\n",
    "t.train()"
   ]
  },
  {
   "cell_type": "code",
   "execution_count": null,
   "metadata": {},
   "outputs": [],
   "source": []
  }
 ],
 "metadata": {
  "kernelspec": {
   "display_name": "Python 3",
   "language": "python",
   "name": "python3"
  },
  "language_info": {
   "codemirror_mode": {
    "name": "ipython",
    "version": 3
   },
   "file_extension": ".py",
   "mimetype": "text/x-python",
   "name": "python",
   "nbconvert_exporter": "python",
   "pygments_lexer": "ipython3",
   "version": "3.6.7"
  }
 },
 "nbformat": 4,
 "nbformat_minor": 2
}
